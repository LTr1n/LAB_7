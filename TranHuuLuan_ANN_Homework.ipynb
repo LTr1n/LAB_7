{
 "cells": [
  {
   "cell_type": "markdown",
   "metadata": {},
   "source": [
    "# Phần 1 : Cấu trúc thay đổi ANN"
   ]
  },
  {
   "cell_type": "code",
   "execution_count": 7,
   "metadata": {},
   "outputs": [],
   "source": [
    "# Cài đặt thư viện\n",
    "import numpy as np\n",
    "import torch\n",
    "import torch.nn as nn\n",
    "import torch.optim as optim\n",
    "from sklearn.model_selection import train_test_split\n",
    "import matplotlib.pyplot as plt\n",
    "\n",
    "# Tạo dữ liệu ngẫu nhiên\n",
    "np.random.seed(0)\n",
    "n_samples = 1000\n",
    "X = np.random.randn(n_samples, 2)\n",
    "y = (X[:, 0]**2 + X[:, 1]**2 > 1).astype(float)  # Phân loại dạng vòng tròn"
   ]
  },
  {
   "cell_type": "code",
   "execution_count": 8,
   "metadata": {},
   "outputs": [],
   "source": [
    "# Chia tập dữ liệu\n",
    "X_train, X_test, y_train, y_test = train_test_split(X, y, test_size=0.2, random_state=42)\n",
    "\n",
    "# Chuyển sang tensor PyTorch\n",
    "X_train = torch.tensor(X_train, dtype=torch.float32)\n",
    "y_train = torch.tensor(y_train, dtype=torch.float32).view(-1, 1)\n",
    "X_test = torch.tensor(X_test, dtype=torch.float32)\n",
    "y_test = torch.tensor(y_test, dtype=torch.float32).view(-1, 1)\n"
   ]
  },
  {
   "cell_type": "code",
   "execution_count": 9,
   "metadata": {},
   "outputs": [],
   "source": [
    "# Mô hình 1: 1 lớp ẩn với 8 nút\n",
    "class ANN_8(nn.Module):\n",
    "    def __init__(self):\n",
    "        super(ANN_8, self).__init__()\n",
    "        self.fc1 = nn.Linear(2, 8)\n",
    "        self.relu = nn.ReLU()\n",
    "        self.fc2 = nn.Linear(8, 1)\n",
    "        self.sigmoid = nn.Sigmoid()\n",
    "    \n",
    "    def forward(self, x):\n",
    "        x = self.fc1(x)\n",
    "        x = self.relu(x)\n",
    "        x = self.fc2(x)\n",
    "        x = self.sigmoid(x)\n",
    "        return x\n"
   ]
  },
  {
   "cell_type": "code",
   "execution_count": 10,
   "metadata": {},
   "outputs": [],
   "source": [
    "# Mô hình 2: 2 lớp ẩn (8 nút, 6 nút)\n",
    "class ANN_8_6(nn.Module):\n",
    "    def __init__(self):\n",
    "        super(ANN_8_6, self).__init__()\n",
    "        self.fc1 = nn.Linear(2, 8)\n",
    "        self.relu1 = nn.ReLU()\n",
    "        self.fc2 = nn.Linear(8, 6)\n",
    "        self.relu2 = nn.ReLU()\n",
    "        self.fc3 = nn.Linear(6, 1)\n",
    "        self.sigmoid = nn.Sigmoid()\n",
    "    \n",
    "    def forward(self, x):\n",
    "        x = self.fc1(x)\n",
    "        x = self.relu1(x)\n",
    "        x = self.fc2(x)\n",
    "        x = self.relu2(x)\n",
    "        x = self.fc3(x)\n",
    "        x = self.sigmoid(x)\n",
    "        return x"
   ]
  },
  {
   "cell_type": "code",
   "execution_count": null,
   "metadata": {},
   "outputs": [],
   "source": [
    "# Hàm huấn luyện mô hình\n",
    "def train_model(model, X_train, y_train, X_test, y_test, epochs=100):\n",
    "    criterion = nn.BCELoss()\n",
    "    optimizer = optim.Adam(model.parameters(), lr=0.01)\n",
    "    \n",
    "    for epoch in range(epochs):\n",
    "        model.train()\n",
    "        optimizer.zero_grad()\n",
    "        y_pred = model(X_train)\n",
    "        loss = criterion(y_pred, y_train)\n",
    "        loss.backward()\n",
    "        optimizer.step()\n",
    "    \n",
    "    model.eval()\n",
    "    with torch.no_grad():\n",
    "        y_pred_test = model(X_test)\n",
    "        y_pred_test = (y_pred_test >= 0.5).float()\n",
    "        accuracy = (y_pred_test == y_test).float().mean()\n",
    "    \n",
    "    return loss.item(), accuracy.item()"
   ]
  },
  {
   "cell_type": "code",
   "execution_count": 12,
   "metadata": {},
   "outputs": [
    {
     "name": "stdout",
     "output_type": "stream",
     "text": [
      "Mô hình 8 nút: Loss = 0.3474, Accuracy = 91.00%\n",
      "Mô hình 8+6 nút: Loss = 0.2138, Accuracy = 96.50%\n"
     ]
    }
   ],
   "source": [
    "# Khởi tạo và huấn luyện mô hình\n",
    "model_8 = ANN_8()\n",
    "loss_8, acc_8 = train_model(model_8, X_train, y_train, X_test, y_test)\n",
    "\n",
    "model_8_6 = ANN_8_6()\n",
    "loss_8_6, acc_8_6 = train_model(model_8_6, X_train, y_train, X_test, y_test)\n",
    "\n",
    "# In kết quả\n",
    "print(f\"Mô hình 8 nút: Loss = {loss_8:.4f}, Accuracy = {acc_8 * 100:.2f}%\")\n",
    "print(f\"Mô hình 8+6 nút: Loss = {loss_8_6:.4f}, Accuracy = {acc_8_6 * 100:.2f}%\")\n"
   ]
  },
  {
   "cell_type": "markdown",
   "metadata": {},
   "source": [
    "So sánh 3 mô hình:\n",
    "\n",
    "Mất mát: khi tăng số nút từ 4 lên 8 rồi 8+6 nút ẩn thì Loss giảm dần 0.4352 , 0.3474, 0.2138 . Cho thấy mô hình càng phức tạp thì nó càng học được nhiều đặc trưng tốt hơn.\n",
    "\n",
    "Đô chính xác: Cũng tăng dần 84% của 4 nút , 91% của 8 nút và 96,5% của 8+6 nút. Việc tăng số nút và thêm một lớp ẩn giúp mô hình hoạt động chính xác hơn."
   ]
  },
  {
   "cell_type": "markdown",
   "metadata": {},
   "source": [
    "# Phần 2: THử nghiệm hàm mất mất và tôi ưu hoá"
   ]
  },
  {
   "cell_type": "code",
   "execution_count": 13,
   "metadata": {},
   "outputs": [],
   "source": [
    "# Mô hình 2-4-1 với BCEWithLogitsLoss\n",
    "class ANN_4_Logits(nn.Module):\n",
    "    def __init__(self):\n",
    "        super(ANN_4_Logits, self).__init__()\n",
    "        self.fc1 = nn.Linear(2, 4)\n",
    "        self.relu = nn.ReLU()\n",
    "        self.fc2 = nn.Linear(4, 1)  # Không có Sigmoid\n",
    "    \n",
    "    def forward(self, x):\n",
    "        x = self.fc1(x)\n",
    "        x = self.relu(x)\n",
    "        x = self.fc2(x)  # BCEWithLogitsLoss sẽ xử lý Sigmoid\n",
    "        return x\n"
   ]
  },
  {
   "cell_type": "code",
   "execution_count": 14,
   "metadata": {},
   "outputs": [],
   "source": [
    "# Mô hình 2-4-1 với SGD\n",
    "class ANN_4_SGD(nn.Module):\n",
    "    def __init__(self):\n",
    "        super(ANN_4_SGD, self).__init__()\n",
    "        self.fc1 = nn.Linear(2, 4)\n",
    "        self.relu = nn.ReLU()\n",
    "        self.fc2 = nn.Linear(4, 1)\n",
    "        self.sigmoid = nn.Sigmoid()\n",
    "    \n",
    "    def forward(self, x):\n",
    "        x = self.fc1(x)\n",
    "        x = self.relu(x)\n",
    "        x = self.fc2(x)\n",
    "        x = self.sigmoid(x)\n",
    "        return x"
   ]
  },
  {
   "cell_type": "code",
   "execution_count": 34,
   "metadata": {},
   "outputs": [],
   "source": [
    "# Hàm huấn luyện mô hình\n",
    "def train_model(model, X_train, y_train, X_test, y_test, loss_fn, optimizer, epochs=100):\n",
    "    for epoch in range(epochs):\n",
    "        model.train()\n",
    "        optimizer.zero_grad()\n",
    "        y_pred = model(X_train).squeeze()\n",
    "        loss = loss_fn(y_pred, y_train.squeeze())  # Giúp kích thước phù hợp\n",
    "        loss.backward()\n",
    "        optimizer.step()\n",
    "    \n",
    "    model.eval()\n",
    "    with torch.no_grad():\n",
    "        y_pred_test = model(X_test).squeeze()\n",
    "        y_pred_test = (y_pred_test >= 0.5).float()\n",
    "        accuracy = (y_pred_test == y_test).float().mean()\n",
    "    \n",
    "    return loss.item(), accuracy.item()"
   ]
  },
  {
   "cell_type": "code",
   "execution_count": 45,
   "metadata": {},
   "outputs": [
    {
     "name": "stdout",
     "output_type": "stream",
     "text": [
      "Mô hình 4 nút với BCEWithLogitsLoss: Loss = 0.3931, Accuracy = 54.46%\n",
      "Mô hình 4 nút với SGD: Loss = 0.6872, Accuracy = 66.50%\n"
     ]
    }
   ],
   "source": [
    "# Khởi tạo mô hình và huấn luyện\n",
    "model_4_logits = ANN_4_Logits()\n",
    "criterion_logits = nn.BCEWithLogitsLoss()\n",
    "optimizer_logits = optim.Adam(model_4_logits.parameters(), lr=0.01)\n",
    "loss_4_logits, acc_4_logits = train_model(model_4_logits, X_train, y_train, X_test, y_test, criterion_logits, optimizer_logits)\n",
    "\n",
    "model_4_sgd = ANN_4_SGD()\n",
    "criterion_sgd = nn.BCELoss()\n",
    "optimizer_sgd = optim.SGD(model_4_sgd.parameters(), lr=0.01)\n",
    "loss_4_sgd, acc_4_sgd = train_model(model_4_sgd, X_train, y_train, X_test, y_test, criterion_sgd, optimizer_sgd)\n",
    "\n",
    "# In kết quả\n",
    "print(f\"Mô hình 4 nút với BCEWithLogitsLoss: Loss = {loss_4_logits:.4f}, Accuracy = {acc_4_logits * 100:.2f}%\")\n",
    "print(f\"Mô hình 4 nút với SGD: Loss = {loss_4_sgd:.4f}, Accuracy = {acc_4_sgd * 100:.2f}%\")\n"
   ]
  },
  {
   "cell_type": "markdown",
   "metadata": {},
   "source": [
    "So sánh kết quả:\n",
    "\n",
    "- BCEWithLogitsLoss so với BCELoss: Loss giảm nhẹ nhưng độ chính xác giảm mạnh từ 84% xuống 54.46%. BCEWithLogitsLoss làm việc trực tiếp với logits nên giá trị đầu ra chênh lệch lớn hơn so với BCELoss\n",
    "\n",
    "- SGD so với Adam: Loss của SGD cao hơn đáng kể nhưng độ chính xác của SGD thấp hơn Adam. Do SGD cập nhật trọng số từng bước nhỏ , không có adaptive learning rate như Adam."
   ]
  },
  {
   "cell_type": "markdown",
   "metadata": {},
   "source": [
    "# Phần 3: Phân tích kết quả"
   ]
  },
  {
   "cell_type": "code",
   "execution_count": 79,
   "metadata": {},
   "outputs": [],
   "source": [
    "# Định nghĩa các mô hình ANN\n",
    "class ANN(nn.Module):\n",
    "    def __init__(self, input_size, hidden_size, output_size):\n",
    "        super(ANN, self).__init__()\n",
    "        self.fc1 = nn.Linear(input_size, hidden_size)\n",
    "        self.relu = nn.ReLU()\n",
    "        self.fc2 = nn.Linear(hidden_size, output_size)\n",
    "        self.sigmoid = nn.Sigmoid()  # Thêm Sigmoid\n",
    "    \n",
    "    def forward(self, x):\n",
    "        x = self.fc1(x)\n",
    "        x = self.relu(x)\n",
    "        x = self.fc2(x)\n",
    "        x = self.sigmoid(x)  # Áp dụng Sigmoid trước khi trả về\n",
    "        return x"
   ]
  },
  {
   "cell_type": "code",
   "execution_count": 80,
   "metadata": {},
   "outputs": [],
   "source": [
    "# Hàm huấn luyện mô hình, lưu lại giá trị mất mát\n",
    "def train_model(model, X_train, y_train, loss_fn, optimizer, epochs=100):\n",
    "    loss_values = []\n",
    "    for epoch in range(epochs):\n",
    "        model.train()\n",
    "        optimizer.zero_grad()\n",
    "        y_pred = model(X_train)\n",
    "        loss = loss_fn(y_pred, y_train)\n",
    "        loss.backward()\n",
    "        optimizer.step()\n",
    "        loss_values.append(loss.item())\n",
    "    return loss_values"
   ]
  },
  {
   "cell_type": "code",
   "execution_count": 82,
   "metadata": {},
   "outputs": [],
   "source": [
    "# Khởi tạo và huấn luyện 3 mô hình\n",
    "loss_fn = nn.BCELoss()  # Sửa thành BCELoss\n",
    "\n",
    "model_2_4_1 = ANN(2, 4, 1)\n",
    "optimizer_2_4_1 = optim.Adam(model_2_4_1.parameters(), lr=0.01)\n",
    "loss_2_4_1 = train_model(model_2_4_1, X_train, y_train, loss_fn, optimizer_2_4_1)\n",
    "\n",
    "model_2_8_1 = ANN(2, 8, 1)\n",
    "optimizer_2_8_1 = optim.Adam(model_2_8_1.parameters(), lr=0.01)\n",
    "loss_2_8_1 = train_model(model_2_8_1, X_train, y_train, loss_fn, optimizer_2_8_1)\n",
    "\n",
    "model_2_4_1_sgd = ANN(2, 4, 1)\n",
    "optimizer_2_4_1_sgd = optim.SGD(model_2_4_1_sgd.parameters(), lr=0.01)\n",
    "loss_2_4_1_sgd = train_model(model_2_4_1_sgd, X_train, y_train, loss_fn, optimizer_2_4_1_sgd)\n"
   ]
  },
  {
   "cell_type": "code",
   "execution_count": 83,
   "metadata": {},
   "outputs": [
    {
     "data": {
      "image/png": "[encoded data removed]",
      "text/plain": [
       "<Figure size 1000x500 with 1 Axes>"
      ]
     },
     "metadata": {},
     "output_type": "display_data"
    }
   ],
   "source": [
    "# Vẽ đồ thị mất mát\n",
    "plt.figure(figsize=(10, 5))\n",
    "plt.plot(loss_2_4_1, label='2-4-1 (Adam, BCELoss)')\n",
    "plt.plot(loss_2_8_1, label='2-8-1 (Adam, BCELoss)')\n",
    "plt.plot(loss_2_4_1_sgd, label='2-4-1 (SGD, BCELoss)')\n",
    "plt.xlabel('Epochs')\n",
    "plt.ylabel('Loss')\n",
    "plt.title('Loss vs Epochs for Different ANN Architectures')\n",
    "plt.legend()\n",
    "plt.show()"
   ]
  },
  {
   "cell_type": "markdown",
   "metadata": {},
   "source": [
    "Mất mát giảm nhanh nhất ở mô hình 2-8-1 và giảm chậm nhất là mô hình 2-4-1 ( SGD, BCELoss)\n",
    "\n",
    "Không có trường hợp nào mất mát giao động mạnh do learning rate không quá lớn, số lượng epoch đủ lớn."
   ]
  }
 ],
 "metadata": {
  "kernelspec": {
   "display_name": "Python 3",
   "language": "python",
   "name": "python3"
  },
  "language_info": {
   "codemirror_mode": {
    "name": "ipython",
    "version": 3
   },
   "file_extension": ".py",
   "mimetype": "text/x-python",
   "name": "python",
   "nbconvert_exporter": "python",
   "pygments_lexer": "ipython3",
   "version": "3.12.4"
  }
 },
 "nbformat": 4,
 "nbformat_minor": 2
}
